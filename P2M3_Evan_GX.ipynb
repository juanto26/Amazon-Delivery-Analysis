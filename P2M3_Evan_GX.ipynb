{
 "cells": [
  {
   "cell_type": "markdown",
   "metadata": {},
   "source": [
    "==============================================================================================\n",
    "\n",
    "Nama : Evan Juanto  \n",
    "\n",
    "Batch : BSD-006\n",
    "\n",
    "==============================================================================================\n",
    "\n",
    "# Great-Expectations\n",
    "me-validasi data menggunakan Great Expectations."
   ]
  },
  {
   "cell_type": "code",
   "execution_count": 1,
   "metadata": {},
   "outputs": [],
   "source": [
    "#import library\n",
    "from great_expectations.data_context import FileDataContext\n",
    "# Create a data context\n",
    "context = FileDataContext.create(project_root_dir='./')"
   ]
  },
  {
   "cell_type": "code",
   "execution_count": 2,
   "metadata": {},
   "outputs": [],
   "source": [
    "# Give a name to a Datasource. This name must be unique between Datasources.\n",
    "datasource_name = 'milestone3'\n",
    "datasource = context.sources.add_pandas(datasource_name)\n",
    "\n",
    "# Give a name to a data asset\n",
    "asset_name = 'test_m3'\n",
    "path_to_data = 'P2M3_Evan_Juanto_data_cleaned.csv'\n",
    "asset = datasource.add_csv_asset(asset_name, filepath_or_buffer=path_to_data)\n",
    "\n",
    "# Build batch request\n",
    "batch_request = asset.build_batch_request()"
   ]
  },
  {
   "cell_type": "markdown",
   "metadata": {},
   "source": [
    "## Expectation"
   ]
  },
  {
   "cell_type": "code",
   "execution_count": 3,
   "metadata": {},
   "outputs": [
    {
     "data": {
      "application/vnd.jupyter.widget-view+json": {
       "model_id": "080c8c4d1442472bbc64faf2ea125426",
       "version_major": 2,
       "version_minor": 0
      },
      "text/plain": [
       "Calculating Metrics:   0%|          | 0/1 [00:00<?, ?it/s]"
      ]
     },
     "metadata": {},
     "output_type": "display_data"
    },
    {
     "data": {
      "text/html": [
       "<div>\n",
       "<style scoped>\n",
       "    .dataframe tbody tr th:only-of-type {\n",
       "        vertical-align: middle;\n",
       "    }\n",
       "\n",
       "    .dataframe tbody tr th {\n",
       "        vertical-align: top;\n",
       "    }\n",
       "\n",
       "    .dataframe thead th {\n",
       "        text-align: right;\n",
       "    }\n",
       "</style>\n",
       "<table border=\"1\" class=\"dataframe\">\n",
       "  <thead>\n",
       "    <tr style=\"text-align: right;\">\n",
       "      <th></th>\n",
       "      <th>order_id</th>\n",
       "      <th>agent_age</th>\n",
       "      <th>agent_rating</th>\n",
       "      <th>store_latitude</th>\n",
       "      <th>store_longitude</th>\n",
       "      <th>drop_latitude</th>\n",
       "      <th>drop_longitude</th>\n",
       "      <th>order_date</th>\n",
       "      <th>order_time</th>\n",
       "      <th>pickup_time</th>\n",
       "      <th>weather</th>\n",
       "      <th>traffic</th>\n",
       "      <th>vehicle</th>\n",
       "      <th>area</th>\n",
       "      <th>delivery_time</th>\n",
       "      <th>category</th>\n",
       "    </tr>\n",
       "  </thead>\n",
       "  <tbody>\n",
       "    <tr>\n",
       "      <th>0</th>\n",
       "      <td>ialx566343618</td>\n",
       "      <td>37</td>\n",
       "      <td>4.9</td>\n",
       "      <td>22.745049</td>\n",
       "      <td>75.892471</td>\n",
       "      <td>22.765049</td>\n",
       "      <td>75.912471</td>\n",
       "      <td>2022-03-19</td>\n",
       "      <td>11:30:00</td>\n",
       "      <td>11:45:00</td>\n",
       "      <td>Sunny</td>\n",
       "      <td>High</td>\n",
       "      <td>motorcycle</td>\n",
       "      <td>Urban</td>\n",
       "      <td>120</td>\n",
       "      <td>Clothing</td>\n",
       "    </tr>\n",
       "    <tr>\n",
       "      <th>1</th>\n",
       "      <td>akqg208421122</td>\n",
       "      <td>34</td>\n",
       "      <td>4.5</td>\n",
       "      <td>12.913041</td>\n",
       "      <td>77.683237</td>\n",
       "      <td>13.043041</td>\n",
       "      <td>77.813237</td>\n",
       "      <td>2022-03-25</td>\n",
       "      <td>19:45:00</td>\n",
       "      <td>19:50:00</td>\n",
       "      <td>Stormy</td>\n",
       "      <td>Jam</td>\n",
       "      <td>scooter</td>\n",
       "      <td>Metropolitian</td>\n",
       "      <td>165</td>\n",
       "      <td>Electronics</td>\n",
       "    </tr>\n",
       "    <tr>\n",
       "      <th>2</th>\n",
       "      <td>njpu434582536</td>\n",
       "      <td>23</td>\n",
       "      <td>4.4</td>\n",
       "      <td>12.914264</td>\n",
       "      <td>77.678400</td>\n",
       "      <td>12.924264</td>\n",
       "      <td>77.688400</td>\n",
       "      <td>2022-03-19</td>\n",
       "      <td>08:30:00</td>\n",
       "      <td>08:45:00</td>\n",
       "      <td>Sandstorms</td>\n",
       "      <td>Low</td>\n",
       "      <td>motorcycle</td>\n",
       "      <td>Urban</td>\n",
       "      <td>130</td>\n",
       "      <td>Sports</td>\n",
       "    </tr>\n",
       "    <tr>\n",
       "      <th>3</th>\n",
       "      <td>rjto796129700</td>\n",
       "      <td>38</td>\n",
       "      <td>4.7</td>\n",
       "      <td>11.003669</td>\n",
       "      <td>76.976494</td>\n",
       "      <td>11.053669</td>\n",
       "      <td>77.026494</td>\n",
       "      <td>2022-04-05</td>\n",
       "      <td>18:00:00</td>\n",
       "      <td>18:10:00</td>\n",
       "      <td>Sunny</td>\n",
       "      <td>Medium</td>\n",
       "      <td>motorcycle</td>\n",
       "      <td>Metropolitian</td>\n",
       "      <td>105</td>\n",
       "      <td>Cosmetics</td>\n",
       "    </tr>\n",
       "    <tr>\n",
       "      <th>4</th>\n",
       "      <td>zguw716275638</td>\n",
       "      <td>32</td>\n",
       "      <td>4.6</td>\n",
       "      <td>12.972793</td>\n",
       "      <td>80.249982</td>\n",
       "      <td>13.012793</td>\n",
       "      <td>80.289982</td>\n",
       "      <td>2022-03-26</td>\n",
       "      <td>13:30:00</td>\n",
       "      <td>13:45:00</td>\n",
       "      <td>Cloudy</td>\n",
       "      <td>High</td>\n",
       "      <td>scooter</td>\n",
       "      <td>Metropolitian</td>\n",
       "      <td>150</td>\n",
       "      <td>Toys</td>\n",
       "    </tr>\n",
       "  </tbody>\n",
       "</table>\n",
       "</div>"
      ],
      "text/plain": [
       "        order_id  agent_age  agent_rating  store_latitude  store_longitude  \\\n",
       "0  ialx566343618         37           4.9       22.745049        75.892471   \n",
       "1  akqg208421122         34           4.5       12.913041        77.683237   \n",
       "2  njpu434582536         23           4.4       12.914264        77.678400   \n",
       "3  rjto796129700         38           4.7       11.003669        76.976494   \n",
       "4  zguw716275638         32           4.6       12.972793        80.249982   \n",
       "\n",
       "   drop_latitude  drop_longitude  order_date order_time pickup_time  \\\n",
       "0      22.765049       75.912471  2022-03-19   11:30:00    11:45:00   \n",
       "1      13.043041       77.813237  2022-03-25   19:45:00    19:50:00   \n",
       "2      12.924264       77.688400  2022-03-19   08:30:00    08:45:00   \n",
       "3      11.053669       77.026494  2022-04-05   18:00:00    18:10:00   \n",
       "4      13.012793       80.289982  2022-03-26   13:30:00    13:45:00   \n",
       "\n",
       "      weather  traffic      vehicle            area  delivery_time  \\\n",
       "0       Sunny    High   motorcycle           Urban             120   \n",
       "1      Stormy     Jam      scooter   Metropolitian             165   \n",
       "2  Sandstorms     Low   motorcycle           Urban             130   \n",
       "3       Sunny  Medium   motorcycle   Metropolitian             105   \n",
       "4      Cloudy    High      scooter   Metropolitian             150   \n",
       "\n",
       "      category  \n",
       "0     Clothing  \n",
       "1  Electronics  \n",
       "2       Sports  \n",
       "3    Cosmetics  \n",
       "4         Toys  "
      ]
     },
     "execution_count": 3,
     "metadata": {},
     "output_type": "execute_result"
    }
   ],
   "source": [
    "# Creat an expectation suite\n",
    "expectation_suite_name = 'expectation-m3-dataset'\n",
    "context.add_or_update_expectation_suite(expectation_suite_name)\n",
    "\n",
    "# Create a validator using above expectation suite\n",
    "validator = context.get_validator(\n",
    "    batch_request = batch_request,\n",
    "    expectation_suite_name = expectation_suite_name\n",
    ")\n",
    "\n",
    "# Check the validator\n",
    "validator.head()"
   ]
  },
  {
   "cell_type": "markdown",
   "metadata": {},
   "source": [
    "### 1.  `order_code` to be unique"
   ]
  },
  {
   "cell_type": "code",
   "execution_count": 4,
   "metadata": {},
   "outputs": [
    {
     "data": {
      "application/vnd.jupyter.widget-view+json": {
       "model_id": "e072474702d54a52afd2b8acfa74605c",
       "version_major": 2,
       "version_minor": 0
      },
      "text/plain": [
       "Calculating Metrics:   0%|          | 0/8 [00:00<?, ?it/s]"
      ]
     },
     "metadata": {},
     "output_type": "display_data"
    },
    {
     "data": {
      "text/plain": [
       "{\n",
       "  \"success\": true,\n",
       "  \"result\": {\n",
       "    \"element_count\": 43739,\n",
       "    \"unexpected_count\": 0,\n",
       "    \"unexpected_percent\": 0.0,\n",
       "    \"partial_unexpected_list\": [],\n",
       "    \"missing_count\": 0,\n",
       "    \"missing_percent\": 0.0,\n",
       "    \"unexpected_percent_total\": 0.0,\n",
       "    \"unexpected_percent_nonmissing\": 0.0\n",
       "  },\n",
       "  \"meta\": {},\n",
       "  \"exception_info\": {\n",
       "    \"raised_exception\": false,\n",
       "    \"exception_traceback\": null,\n",
       "    \"exception_message\": null\n",
       "  }\n",
       "}"
      ]
     },
     "execution_count": 4,
     "metadata": {},
     "output_type": "execute_result"
    }
   ],
   "source": [
    "validator.expect_column_values_to_be_unique('order_id')"
   ]
  },
  {
   "cell_type": "markdown",
   "metadata": {},
   "source": [
    "### 2. `agent_rating` to be between 0 and 6"
   ]
  },
  {
   "cell_type": "code",
   "execution_count": 5,
   "metadata": {},
   "outputs": [
    {
     "data": {
      "application/vnd.jupyter.widget-view+json": {
       "model_id": "8dafa97b168a4e4685fe6d3b0757a615",
       "version_major": 2,
       "version_minor": 0
      },
      "text/plain": [
       "Calculating Metrics:   0%|          | 0/8 [00:00<?, ?it/s]"
      ]
     },
     "metadata": {},
     "output_type": "display_data"
    },
    {
     "data": {
      "text/plain": [
       "{\n",
       "  \"success\": true,\n",
       "  \"result\": {\n",
       "    \"element_count\": 43739,\n",
       "    \"unexpected_count\": 0,\n",
       "    \"unexpected_percent\": 0.0,\n",
       "    \"partial_unexpected_list\": [],\n",
       "    \"missing_count\": 0,\n",
       "    \"missing_percent\": 0.0,\n",
       "    \"unexpected_percent_total\": 0.0,\n",
       "    \"unexpected_percent_nonmissing\": 0.0\n",
       "  },\n",
       "  \"meta\": {},\n",
       "  \"exception_info\": {\n",
       "    \"raised_exception\": false,\n",
       "    \"exception_traceback\": null,\n",
       "    \"exception_message\": null\n",
       "  }\n",
       "}"
      ]
     },
     "execution_count": 5,
     "metadata": {},
     "output_type": "execute_result"
    }
   ],
   "source": [
    "validator.expect_column_values_to_be_between('agent_rating', min_value=0, max_value=6)\n"
   ]
  },
  {
   "cell_type": "markdown",
   "metadata": {},
   "source": [
    "### 3. To be in set `vehicle`\n"
   ]
  },
  {
   "cell_type": "code",
   "execution_count": 6,
   "metadata": {},
   "outputs": [
    {
     "data": {
      "application/vnd.jupyter.widget-view+json": {
       "model_id": "3fa427df09a147a1aee58098ba88d7c8",
       "version_major": 2,
       "version_minor": 0
      },
      "text/plain": [
       "Calculating Metrics:   0%|          | 0/8 [00:00<?, ?it/s]"
      ]
     },
     "metadata": {},
     "output_type": "display_data"
    },
    {
     "data": {
      "text/plain": [
       "{\n",
       "  \"success\": true,\n",
       "  \"result\": {\n",
       "    \"element_count\": 43739,\n",
       "    \"unexpected_count\": 0,\n",
       "    \"unexpected_percent\": 0.0,\n",
       "    \"partial_unexpected_list\": [],\n",
       "    \"missing_count\": 0,\n",
       "    \"missing_percent\": 0.0,\n",
       "    \"unexpected_percent_total\": 0.0,\n",
       "    \"unexpected_percent_nonmissing\": 0.0\n",
       "  },\n",
       "  \"meta\": {},\n",
       "  \"exception_info\": {\n",
       "    \"raised_exception\": false,\n",
       "    \"exception_traceback\": null,\n",
       "    \"exception_message\": null\n",
       "  }\n",
       "}"
      ]
     },
     "execution_count": 6,
     "metadata": {},
     "output_type": "execute_result"
    }
   ],
   "source": [
    "validator.expect_column_values_to_be_in_set('vehicle', ['motorcycle ', 'scooter ', 'van','bicycle '])\n"
   ]
  },
  {
   "cell_type": "markdown",
   "metadata": {},
   "source": [
    "### 4. `agent_rating` values to be of type 'float'"
   ]
  },
  {
   "cell_type": "code",
   "execution_count": 10,
   "metadata": {},
   "outputs": [
    {
     "data": {
      "application/vnd.jupyter.widget-view+json": {
       "model_id": "16eecfb8538f4bb98c1c147efa0b3c75",
       "version_major": 2,
       "version_minor": 0
      },
      "text/plain": [
       "Calculating Metrics:   0%|          | 0/1 [00:00<?, ?it/s]"
      ]
     },
     "metadata": {},
     "output_type": "display_data"
    },
    {
     "data": {
      "text/plain": [
       "{\n",
       "  \"success\": true,\n",
       "  \"result\": {\n",
       "    \"observed_value\": \"float64\"\n",
       "  },\n",
       "  \"meta\": {},\n",
       "  \"exception_info\": {\n",
       "    \"raised_exception\": false,\n",
       "    \"exception_traceback\": null,\n",
       "    \"exception_message\": null\n",
       "  }\n",
       "}"
      ]
     },
     "execution_count": 10,
     "metadata": {},
     "output_type": "execute_result"
    }
   ],
   "source": [
    "validator.expect_column_values_to_be_of_type('agent_rating', 'float')\n"
   ]
  },
  {
   "cell_type": "markdown",
   "metadata": {},
   "source": [
    "### 5. `weather` value lengths to be between 3"
   ]
  },
  {
   "cell_type": "code",
   "execution_count": 11,
   "metadata": {},
   "outputs": [
    {
     "data": {
      "application/vnd.jupyter.widget-view+json": {
       "model_id": "bd10fdf143134ff682ffb5837027c9b3",
       "version_major": 2,
       "version_minor": 0
      },
      "text/plain": [
       "Calculating Metrics:   0%|          | 0/9 [00:00<?, ?it/s]"
      ]
     },
     "metadata": {},
     "output_type": "display_data"
    },
    {
     "data": {
      "text/plain": [
       "{\n",
       "  \"success\": true,\n",
       "  \"result\": {\n",
       "    \"element_count\": 43739,\n",
       "    \"unexpected_count\": 0,\n",
       "    \"unexpected_percent\": 0.0,\n",
       "    \"partial_unexpected_list\": [],\n",
       "    \"missing_count\": 91,\n",
       "    \"missing_percent\": 0.20805231029515994,\n",
       "    \"unexpected_percent_total\": 0.0,\n",
       "    \"unexpected_percent_nonmissing\": 0.0\n",
       "  },\n",
       "  \"meta\": {},\n",
       "  \"exception_info\": {\n",
       "    \"raised_exception\": false,\n",
       "    \"exception_traceback\": null,\n",
       "    \"exception_message\": null\n",
       "  }\n",
       "}"
      ]
     },
     "execution_count": 11,
     "metadata": {},
     "output_type": "execute_result"
    }
   ],
   "source": [
    "validator.expect_column_value_lengths_to_be_between('weather', min_value=3)\n"
   ]
  },
  {
   "cell_type": "markdown",
   "metadata": {},
   "source": [
    "### 6. `agent_age` min to be between 15 and 65"
   ]
  },
  {
   "cell_type": "code",
   "execution_count": 14,
   "metadata": {},
   "outputs": [
    {
     "data": {
      "application/vnd.jupyter.widget-view+json": {
       "model_id": "34aa78cc370c4efbb0ddb34947439f76",
       "version_major": 2,
       "version_minor": 0
      },
      "text/plain": [
       "Calculating Metrics:   0%|          | 0/4 [00:00<?, ?it/s]"
      ]
     },
     "metadata": {},
     "output_type": "display_data"
    },
    {
     "data": {
      "text/plain": [
       "{\n",
       "  \"success\": true,\n",
       "  \"result\": {\n",
       "    \"observed_value\": 15\n",
       "  },\n",
       "  \"meta\": {},\n",
       "  \"exception_info\": {\n",
       "    \"raised_exception\": false,\n",
       "    \"exception_traceback\": null,\n",
       "    \"exception_message\": null\n",
       "  }\n",
       "}"
      ]
     },
     "execution_count": 14,
     "metadata": {},
     "output_type": "execute_result"
    }
   ],
   "source": [
    "validator.expect_column_min_to_be_between('agent_age', min_value=15, max_value=65)"
   ]
  },
  {
   "cell_type": "markdown",
   "metadata": {},
   "source": [
    "### 7. `category` column distinct values to be in set"
   ]
  },
  {
   "cell_type": "code",
   "execution_count": 20,
   "metadata": {},
   "outputs": [
    {
     "data": {
      "application/vnd.jupyter.widget-view+json": {
       "model_id": "c05a30552ae84452acd85d50a162bf46",
       "version_major": 2,
       "version_minor": 0
      },
      "text/plain": [
       "Calculating Metrics:   0%|          | 0/4 [00:00<?, ?it/s]"
      ]
     },
     "metadata": {},
     "output_type": "display_data"
    },
    {
     "data": {
      "text/plain": [
       "{\n",
       "  \"success\": true,\n",
       "  \"result\": {\n",
       "    \"observed_value\": [\n",
       "      \"Apparel\",\n",
       "      \"Books\",\n",
       "      \"Clothing\",\n",
       "      \"Cosmetics\",\n",
       "      \"Electronics\",\n",
       "      \"Grocery\",\n",
       "      \"Home\",\n",
       "      \"Jewelry\",\n",
       "      \"Kitchen\",\n",
       "      \"Outdoors\",\n",
       "      \"Pet Supplies\",\n",
       "      \"Shoes\",\n",
       "      \"Skincare\",\n",
       "      \"Snacks\",\n",
       "      \"Sports\",\n",
       "      \"Toys\"\n",
       "    ],\n",
       "    \"details\": {\n",
       "      \"value_counts\": [\n",
       "        {\n",
       "          \"value\": \"Apparel\",\n",
       "          \"count\": 2726\n",
       "        },\n",
       "        {\n",
       "          \"value\": \"Books\",\n",
       "          \"count\": 2824\n",
       "        },\n",
       "        {\n",
       "          \"value\": \"Clothing\",\n",
       "          \"count\": 2667\n",
       "        },\n",
       "        {\n",
       "          \"value\": \"Cosmetics\",\n",
       "          \"count\": 2677\n",
       "        },\n",
       "        {\n",
       "          \"value\": \"Electronics\",\n",
       "          \"count\": 2849\n",
       "        },\n",
       "        {\n",
       "          \"value\": \"Grocery\",\n",
       "          \"count\": 2691\n",
       "        },\n",
       "        {\n",
       "          \"value\": \"Home\",\n",
       "          \"count\": 2685\n",
       "        },\n",
       "        {\n",
       "          \"value\": \"Jewelry\",\n",
       "          \"count\": 2802\n",
       "        },\n",
       "        {\n",
       "          \"value\": \"Kitchen\",\n",
       "          \"count\": 2673\n",
       "        },\n",
       "        {\n",
       "          \"value\": \"Outdoors\",\n",
       "          \"count\": 2747\n",
       "        },\n",
       "        {\n",
       "          \"value\": \"Pet Supplies\",\n",
       "          \"count\": 2690\n",
       "        },\n",
       "        {\n",
       "          \"value\": \"Shoes\",\n",
       "          \"count\": 2666\n",
       "        },\n",
       "        {\n",
       "          \"value\": \"Skincare\",\n",
       "          \"count\": 2772\n",
       "        },\n",
       "        {\n",
       "          \"value\": \"Snacks\",\n",
       "          \"count\": 2770\n",
       "        },\n",
       "        {\n",
       "          \"value\": \"Sports\",\n",
       "          \"count\": 2719\n",
       "        },\n",
       "        {\n",
       "          \"value\": \"Toys\",\n",
       "          \"count\": 2781\n",
       "        }\n",
       "      ]\n",
       "    }\n",
       "  },\n",
       "  \"meta\": {},\n",
       "  \"exception_info\": {\n",
       "    \"raised_exception\": false,\n",
       "    \"exception_traceback\": null,\n",
       "    \"exception_message\": null\n",
       "  }\n",
       "}"
      ]
     },
     "execution_count": 20,
     "metadata": {},
     "output_type": "execute_result"
    }
   ],
   "source": [
    "validator.expect_column_distinct_values_to_be_in_set('category', ['Clothing', 'Electronics', 'Sports', 'Cosmetics', 'Toys', 'Snacks',\n",
    "       'Shoes', 'Apparel', 'Jewelry', 'Outdoors', 'Grocery', 'Books',\n",
    "       'Kitchen', 'Home', 'Pet Supplies', 'Skincare'])\n"
   ]
  }
 ],
 "metadata": {
  "kernelspec": {
   "display_name": "base",
   "language": "python",
   "name": "python3"
  },
  "language_info": {
   "codemirror_mode": {
    "name": "ipython",
    "version": 3
   },
   "file_extension": ".py",
   "mimetype": "text/x-python",
   "name": "python",
   "nbconvert_exporter": "python",
   "pygments_lexer": "ipython3",
   "version": "3.11.7"
  }
 },
 "nbformat": 4,
 "nbformat_minor": 2
}
